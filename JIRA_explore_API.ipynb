{
 "cells": [
  {
   "cell_type": "markdown",
   "metadata": {},
   "source": [
    "# Exploring Jira API commands in Jupyter"
   ]
  },
  {
   "cell_type": "markdown",
   "metadata": {},
   "source": [
    "## Login"
   ]
  },
  {
   "cell_type": "code",
   "execution_count": null,
   "metadata": {},
   "outputs": [],
   "source": [
    "from jira import JIRA\n",
    "import pyodbc\n",
    "\n",
    "from cryptography.fernet import Fernet\n",
    "\n",
    "def jira_login():\n",
    "    key = Fernet.generate_key()\n",
    "    cipher_suite = Fernet(key)\n",
    "\n",
    "    username = input(\"Username: \").encode(\"utf-8\")\n",
    "    password = getpass.getpass().encode(\"utf-8\")\n",
    "\n",
    "    cipher_text_un = cipher_suite.encrypt(username)\n",
    "    cipher_text_pw = cipher_suite.encrypt(password)\n",
    "\n",
    "    ################ Configs -Decrypt imported file\n",
    "\n",
    "\n",
    "    username = cipher_suite.decrypt(cipher_text_un).decode(\"utf-8\", \"strict\")\n",
    "    _这不是密码 = cipher_suite.decrypt(cipher_text_pw).decode(\"utf-8\", \"strict\")\n",
    "\n",
    "    def getCipherText():\n",
    "        key = Fernet.generate_key()\n",
    "        cipher_suite = Fernet(key)\n",
    "\n",
    "        username = input(\"Username: \").encode(\"utf-8\")\n",
    "        password = getpass.getpass().encode(\"utf-8\")\n",
    "\n",
    "        cipher_text_un = cipher_suite.encrypt(username)\n",
    "        cipher_text_pw = cipher_suite.encrypt(password)\n",
    "\n",
    "        encryption_list = [key.decode(\"utf-8\"), cipher_text_un.decode(\"utf-8\"), cipher_text_pw.decode(\"utf-8\")]\n",
    "\n",
    "        file = filepath  # Put full filepath here where you want encrypted password to be stored\n",
    "        out_file = open(file, \"w\")\n",
    "\n",
    "        for line in encryption_list:\n",
    "            out_file.write(line)\n",
    "            out_file.write(\"\\n\")\n",
    "        out_file.close()\n",
    "        \n",
    "    options = {\n",
    "        'server': 'https://jira.arbfund.com'\n",
    "        }\n",
    "    jira = JIRA(options, basic_auth = (username, password))\n",
    "\n",
    "\n",
    "jira_login()\n"
   ]
  },
  {
   "cell_type": "markdown",
   "metadata": {},
   "source": [
    "### Search all Jira Cases for text"
   ]
  },
  {
   "cell_type": "code",
   "execution_count": null,
   "metadata": {},
   "outputs": [],
   "source": [
    "text = 'project in (test1, test2) AND text ~ testid123 AND created >= -90d ORDER BY created DESC'\n",
    "\n",
    "my_search = jira.search_issues(text)"
   ]
  },
  {
   "cell_type": "code",
   "execution_count": null,
   "metadata": {},
   "outputs": [],
   "source": [
    "my_search"
   ]
  },
  {
   "cell_type": "markdown",
   "metadata": {},
   "source": [
    "### Pull entire Jira case"
   ]
  },
  {
   "cell_type": "code",
   "execution_count": null,
   "metadata": {},
   "outputs": [],
   "source": [
    "case = 'test-12345'\n",
    "issue = jira.issue(case)"
   ]
  },
  {
   "cell_type": "markdown",
   "metadata": {},
   "source": [
    "### Print any fields associated with the case"
   ]
  },
  {
   "cell_type": "code",
   "execution_count": null,
   "metadata": {},
   "outputs": [],
   "source": [
    "#print(jira.fields())\n",
    "\n",
    "print(issue.fields.summary)\n",
    "print(issue.fields.description)"
   ]
  },
  {
   "cell_type": "markdown",
   "metadata": {},
   "source": [
    "### Print entire dictionary for case"
   ]
  },
  {
   "cell_type": "code",
   "execution_count": null,
   "metadata": {
    "scrolled": true
   },
   "outputs": [],
   "source": [
    "issue.fields.__dict__"
   ]
  },
  {
   "cell_type": "markdown",
   "metadata": {},
   "source": [
    "## Create Case \n",
    "Examples below of the formatting to create a case"
   ]
  },
  {
   "cell_type": "code",
   "execution_count": null,
   "metadata": {},
   "outputs": [],
   "source": [
    "#https://jira.arbfund.com/browse/ACF-8968\n",
    "issue_dict = {\n",
    "    'project': 'test',\n",
    "    'priority':{'name':'Minor'},\n",
    "    'summary': 'TEST TEST TEST',\n",
    "    'description': 'TEST TEST TEST',\n",
    "    'issuetype': {'name': 'Other'},\n",
    "}\n",
    "\n",
    "new_issue = jira.create_issue(**issue_dict)"
   ]
  }
 ],
 "metadata": {
  "kernelspec": {
   "display_name": "Python 3",
   "language": "python",
   "name": "python3"
  },
  "language_info": {
   "codemirror_mode": {
    "name": "ipython",
    "version": 3
   },
   "file_extension": ".py",
   "mimetype": "text/x-python",
   "name": "python",
   "nbconvert_exporter": "python",
   "pygments_lexer": "ipython3",
   "version": "3.6.5"
  }
 },
 "nbformat": 4,
 "nbformat_minor": 2
}
